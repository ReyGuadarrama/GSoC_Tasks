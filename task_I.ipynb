{
 "cells": [
  {
   "cell_type": "markdown",
   "metadata": {},
   "source": [
    "# **GSoC 2024 QMLHEP Task I**\n",
    "---\n",
    "\n",
    "## **Quantum Computing Basics**\n",
    "This task involve creating two simple quantum circuits using cirq applying basic quantum operations for the first one and perform swap test in the second one.\n",
    "\n",
    "### **Resources**\n",
    "* [Cirq Documentation](https://quantumai.google/cirq/start/basics)\n",
    "* [Xanadu Codebook](https://codebook.xanadu.ai/I.13)\n",
    "\n",
    "##### Required libraries"
   ]
  },
  {
   "cell_type": "code",
   "execution_count": 1,
   "metadata": {},
   "outputs": [],
   "source": [
    "import cirq\n",
    "import numpy as np\n",
    "import matplotlib.pyplot as plt\n",
    "from cirq.contrib.svg import SVGCircuit"
   ]
  },
  {
   "cell_type": "markdown",
   "metadata": {},
   "source": [
    "<a name = \"p1\"></a>\n",
    "\n",
    "---\n",
    "# **Task 1.1**\n",
    "---\n",
    "\n",
    "### **Implement a simple quantum operation with Cirq or Pennylane**\n",
    "\n",
    "- With 5 qubits \n",
    "- Apply Hadamard operation on every qubit \n",
    "- Apply CNOT operation on (0, 1), (1,2), (2,3), (3,4) \n",
    "- SWAP (0, 4) \n",
    "- Rotate $X$ with $\\pi/2$ on any qubit \n",
    "- Plot the circuit "
   ]
  },
  {
   "cell_type": "code",
   "execution_count": 3,
   "metadata": {},
   "outputs": [
    {
     "name": "stderr",
     "output_type": "stream",
     "text": [
      "findfont: Font family 'Arial' not found.\n",
      "findfont: Font family 'Arial' not found.\n",
      "findfont: Font family 'Arial' not found.\n",
      "findfont: Font family 'Arial' not found.\n",
      "findfont: Font family 'Arial' not found.\n",
      "findfont: Font family 'Arial' not found.\n",
      "findfont: Font family 'Arial' not found.\n",
      "findfont: Font family 'Arial' not found.\n",
      "findfont: Font family 'Arial' not found.\n",
      "findfont: Font family 'Arial' not found.\n",
      "findfont: Font family 'Arial' not found.\n",
      "findfont: Font family 'Arial' not found.\n",
      "findfont: Font family 'Arial' not found.\n",
      "findfont: Font family 'Arial' not found.\n",
      "findfont: Font family 'Arial' not found.\n",
      "findfont: Font family 'Arial' not found.\n",
      "findfont: Font family 'Arial' not found.\n",
      "findfont: Font family 'Arial' not found.\n",
      "findfont: Font family 'Arial' not found.\n",
      "findfont: Font family 'Arial' not found.\n",
      "findfont: Font family 'Arial' not found.\n"
     ]
    },
    {
     "data": {
      "image/svg+xml": [
       "<svg xmlns=\"http://www.w3.org/2000/svg\" width=\"527.05328125\" height=\"290.0\"><line x1=\"30.0\" x2=\"497.05328125\" y1=\"45.0\" y2=\"45.0\" stroke=\"#1967d2\" stroke-width=\"1\" /><line x1=\"30.0\" x2=\"497.05328125\" y1=\"95.0\" y2=\"95.0\" stroke=\"#1967d2\" stroke-width=\"1\" /><line x1=\"30.0\" x2=\"497.05328125\" y1=\"145.0\" y2=\"145.0\" stroke=\"#1967d2\" stroke-width=\"1\" /><line x1=\"30.0\" x2=\"497.05328125\" y1=\"195.0\" y2=\"195.0\" stroke=\"#1967d2\" stroke-width=\"1\" /><line x1=\"30.0\" x2=\"497.05328125\" y1=\"245.0\" y2=\"245.0\" stroke=\"#1967d2\" stroke-width=\"1\" /><line x1=\"360.0\" x2=\"477.05328125\" y1=\"5.0\" y2=\"5.0\" stroke=\"black\" stroke-width=\"1\" /><line x1=\"360.0\" x2=\"477.05328125\" y1=\"285.0\" y2=\"285.0\" stroke=\"black\" stroke-width=\"1\" /><line x1=\"150.0\" x2=\"150.0\" y1=\"45.0\" y2=\"95.0\" stroke=\"black\" stroke-width=\"3\" /><line x1=\"210.0\" x2=\"210.0\" y1=\"95.0\" y2=\"145.0\" stroke=\"black\" stroke-width=\"3\" /><line x1=\"270.0\" x2=\"270.0\" y1=\"145.0\" y2=\"195.0\" stroke=\"black\" stroke-width=\"3\" /><line x1=\"330.0\" x2=\"330.0\" y1=\"195.0\" y2=\"245.0\" stroke=\"black\" stroke-width=\"3\" /><line x1=\"380.0\" x2=\"380.0\" y1=\"45.0\" y2=\"245.0\" stroke=\"black\" stroke-width=\"3\" /><line x1=\"360.0\" x2=\"360.0\" y1=\"5.0\" y2=\"15.0\" stroke=\"black\" stroke-width=\"3\" /><line x1=\"477.05328125\" x2=\"477.05328125\" y1=\"5.0\" y2=\"15.0\" stroke=\"black\" stroke-width=\"3\" /><line x1=\"360.0\" x2=\"360.0\" y1=\"275.0\" y2=\"285.0\" stroke=\"black\" stroke-width=\"3\" /><line x1=\"477.05328125\" x2=\"477.05328125\" y1=\"275.0\" y2=\"285.0\" stroke=\"black\" stroke-width=\"3\" /><rect x=\"10.0\" y=\"25.0\" width=\"40\" height=\"40\" stroke=\"black\" fill=\"white\" stroke-width=\"0\" /><text x=\"30.0\" y=\"45.0\" dominant-baseline=\"middle\" text-anchor=\"middle\" font-size=\"14px\" font-family=\"Arial\">q0: </text><rect x=\"10.0\" y=\"75.0\" width=\"40\" height=\"40\" stroke=\"black\" fill=\"white\" stroke-width=\"0\" /><text x=\"30.0\" y=\"95.0\" dominant-baseline=\"middle\" text-anchor=\"middle\" font-size=\"14px\" font-family=\"Arial\">q1: </text><rect x=\"10.0\" y=\"125.0\" width=\"40\" height=\"40\" stroke=\"black\" fill=\"white\" stroke-width=\"0\" /><text x=\"30.0\" y=\"145.0\" dominant-baseline=\"middle\" text-anchor=\"middle\" font-size=\"14px\" font-family=\"Arial\">q2: </text><rect x=\"10.0\" y=\"175.0\" width=\"40\" height=\"40\" stroke=\"black\" fill=\"white\" stroke-width=\"0\" /><text x=\"30.0\" y=\"195.0\" dominant-baseline=\"middle\" text-anchor=\"middle\" font-size=\"14px\" font-family=\"Arial\">q3: </text><rect x=\"10.0\" y=\"225.0\" width=\"40\" height=\"40\" stroke=\"black\" fill=\"white\" stroke-width=\"0\" /><text x=\"30.0\" y=\"245.0\" dominant-baseline=\"middle\" text-anchor=\"middle\" font-size=\"14px\" font-family=\"Arial\">q4: </text><rect x=\"70.0\" y=\"25.0\" width=\"40\" height=\"40\" stroke=\"black\" fill=\"white\" stroke-width=\"1\" /><text x=\"90.0\" y=\"45.0\" dominant-baseline=\"middle\" text-anchor=\"middle\" font-size=\"18px\" font-family=\"Arial\">H</text><rect x=\"70.0\" y=\"75.0\" width=\"40\" height=\"40\" stroke=\"black\" fill=\"white\" stroke-width=\"1\" /><text x=\"90.0\" y=\"95.0\" dominant-baseline=\"middle\" text-anchor=\"middle\" font-size=\"18px\" font-family=\"Arial\">H</text><rect x=\"70.0\" y=\"125.0\" width=\"40\" height=\"40\" stroke=\"black\" fill=\"white\" stroke-width=\"1\" /><text x=\"90.0\" y=\"145.0\" dominant-baseline=\"middle\" text-anchor=\"middle\" font-size=\"18px\" font-family=\"Arial\">H</text><rect x=\"70.0\" y=\"175.0\" width=\"40\" height=\"40\" stroke=\"black\" fill=\"white\" stroke-width=\"1\" /><text x=\"90.0\" y=\"195.0\" dominant-baseline=\"middle\" text-anchor=\"middle\" font-size=\"18px\" font-family=\"Arial\">H</text><rect x=\"70.0\" y=\"225.0\" width=\"40\" height=\"40\" stroke=\"black\" fill=\"white\" stroke-width=\"1\" /><text x=\"90.0\" y=\"245.0\" dominant-baseline=\"middle\" text-anchor=\"middle\" font-size=\"18px\" font-family=\"Arial\">H</text><circle cx=\"150.0\" cy=\"45.0\" r=\"10.0\" /><rect x=\"130.0\" y=\"75.0\" width=\"40\" height=\"40\" stroke=\"black\" fill=\"white\" stroke-width=\"1\" /><text x=\"150.0\" y=\"95.0\" dominant-baseline=\"middle\" text-anchor=\"middle\" font-size=\"18px\" font-family=\"Arial\">X</text><circle cx=\"210.0\" cy=\"95.0\" r=\"10.0\" /><rect x=\"190.0\" y=\"125.0\" width=\"40\" height=\"40\" stroke=\"black\" fill=\"white\" stroke-width=\"1\" /><text x=\"210.0\" y=\"145.0\" dominant-baseline=\"middle\" text-anchor=\"middle\" font-size=\"18px\" font-family=\"Arial\">X</text><circle cx=\"270.0\" cy=\"145.0\" r=\"10.0\" /><rect x=\"250.0\" y=\"175.0\" width=\"40\" height=\"40\" stroke=\"black\" fill=\"white\" stroke-width=\"1\" /><text x=\"270.0\" y=\"195.0\" dominant-baseline=\"middle\" text-anchor=\"middle\" font-size=\"18px\" font-family=\"Arial\">X</text><circle cx=\"330.0\" cy=\"195.0\" r=\"10.0\" /><rect x=\"310.0\" y=\"225.0\" width=\"40\" height=\"40\" stroke=\"black\" fill=\"white\" stroke-width=\"1\" /><text x=\"330.0\" y=\"245.0\" dominant-baseline=\"middle\" text-anchor=\"middle\" font-size=\"18px\" font-family=\"Arial\">X</text><text x=\"380.0\" y=\"48.0\" dominant-baseline=\"middle\" text-anchor=\"middle\" font-size=\"40px\" font-family=\"Arial\">×</text><text x=\"380.0\" y=\"248.0\" dominant-baseline=\"middle\" text-anchor=\"middle\" font-size=\"40px\" font-family=\"Arial\">×</text><rect x=\"400.0\" y=\"175.0\" width=\"67.05328125\" height=\"40\" stroke=\"black\" fill=\"white\" stroke-width=\"1\" /><text x=\"433.526640625\" y=\"195.0\" dominant-baseline=\"middle\" text-anchor=\"middle\" font-size=\"14px\" font-family=\"Arial\">Rx(0.5π)</text></svg>"
      ],
      "text/plain": [
       "<cirq.contrib.svg.svg.SVGCircuit at 0x7fdfe17ad400>"
      ]
     },
     "execution_count": 3,
     "metadata": {},
     "output_type": "execute_result"
    }
   ],
   "source": [
    "# 1. Create a circuit with 5 qubits\n",
    "qubits = cirq.NamedQubit.range(5, prefix = 'q')\n",
    "circuit = cirq.Circuit()\n",
    "\n",
    "# 2 .Apply a Hadamard gate on each qubit\n",
    "circuit.append(cirq.H.on_each(qubits))\n",
    "\n",
    "# 3. Apply CNOT gates on qubits (0, 1), (1, 2), (2, 3), (3, 4)\n",
    "circuit.append(cirq.CNOT(qubits[0], qubits[1]))\n",
    "circuit.append(cirq.CNOT(qubits[1], qubits[2]))\n",
    "circuit.append(cirq.CNOT(qubits[2], qubits[3]))\n",
    "circuit.append(cirq.CNOT(qubits[3], qubits[4]))\n",
    "\n",
    "# 4. Swaps the qubits 0 and 4\n",
    "circuit.append(cirq.SWAP(qubits[0], qubits[4]))\n",
    "\n",
    "# 5. Apply an X rotation of pi/2 radians on the qubit 3\n",
    "circuit.append(cirq.rx(np.pi/2).on(qubits[3]))\n",
    "\n",
    "# 6. Plot the circuit\n",
    "SVGCircuit(circuit)"
   ]
  },
  {
   "cell_type": "markdown",
   "metadata": {},
   "source": [
    "\n",
    "---\n",
    "# **Task 1.2**\n",
    "---\n",
    "\n",
    "### **Implement a second circuit with a framework of your choice:**\n",
    "\n",
    "- Apply a Hadmard gate to the first qubit\n",
    "- rotate the second qubit by $\\pi/3$ around $X$\n",
    "- Apply Hadamard gate to the third and fourth qubit\n",
    "- Perform a swap test between the states of the first and second qubit $\\ket{q1} \\ket{q2}$ and the third and fourth qubit $\\ket{q3} \\ket{q4}$\n"
   ]
  },
  {
   "cell_type": "code",
   "execution_count": 4,
   "metadata": {},
   "outputs": [
    {
     "name": "stderr",
     "output_type": "stream",
     "text": [
      "findfont: Font family 'Arial' not found.\n",
      "findfont: Font family 'Arial' not found.\n",
      "findfont: Font family 'Arial' not found.\n",
      "findfont: Font family 'Arial' not found.\n",
      "findfont: Font family 'Arial' not found.\n",
      "findfont: Font family 'Arial' not found.\n",
      "findfont: Font family 'Arial' not found.\n",
      "findfont: Font family 'Arial' not found.\n"
     ]
    },
    {
     "data": {
      "image/svg+xml": [
       "<svg xmlns=\"http://www.w3.org/2000/svg\" width=\"204.867734375\" height=\"200.0\"><line x1=\"30.0\" x2=\"174.867734375\" y1=\"25.0\" y2=\"25.0\" stroke=\"#1967d2\" stroke-width=\"1\" /><line x1=\"30.0\" x2=\"174.867734375\" y1=\"75.0\" y2=\"75.0\" stroke=\"#1967d2\" stroke-width=\"1\" /><line x1=\"30.0\" x2=\"174.867734375\" y1=\"125.0\" y2=\"125.0\" stroke=\"#1967d2\" stroke-width=\"1\" /><line x1=\"30.0\" x2=\"174.867734375\" y1=\"175.0\" y2=\"175.0\" stroke=\"#1967d2\" stroke-width=\"1\" /><rect x=\"10.0\" y=\"5.0\" width=\"40\" height=\"40\" stroke=\"black\" fill=\"white\" stroke-width=\"0\" /><text x=\"30.0\" y=\"25.0\" dominant-baseline=\"middle\" text-anchor=\"middle\" font-size=\"14px\" font-family=\"Arial\">q0: </text><rect x=\"10.0\" y=\"55.0\" width=\"40\" height=\"40\" stroke=\"black\" fill=\"white\" stroke-width=\"0\" /><text x=\"30.0\" y=\"75.0\" dominant-baseline=\"middle\" text-anchor=\"middle\" font-size=\"14px\" font-family=\"Arial\">q1: </text><rect x=\"10.0\" y=\"105.0\" width=\"40\" height=\"40\" stroke=\"black\" fill=\"white\" stroke-width=\"0\" /><text x=\"30.0\" y=\"125.0\" dominant-baseline=\"middle\" text-anchor=\"middle\" font-size=\"14px\" font-family=\"Arial\">q2: </text><rect x=\"10.0\" y=\"155.0\" width=\"40\" height=\"40\" stroke=\"black\" fill=\"white\" stroke-width=\"0\" /><text x=\"30.0\" y=\"175.0\" dominant-baseline=\"middle\" text-anchor=\"middle\" font-size=\"14px\" font-family=\"Arial\">q3: </text><rect x=\"70.0\" y=\"5.0\" width=\"84.86773437500001\" height=\"40\" stroke=\"black\" fill=\"white\" stroke-width=\"1\" /><text x=\"112.4338671875\" y=\"25.0\" dominant-baseline=\"middle\" text-anchor=\"middle\" font-size=\"18px\" font-family=\"Arial\">H</text><rect x=\"70.0\" y=\"55.0\" width=\"84.86773437500001\" height=\"40\" stroke=\"black\" fill=\"white\" stroke-width=\"1\" /><text x=\"112.4338671875\" y=\"75.0\" dominant-baseline=\"middle\" text-anchor=\"middle\" font-size=\"14px\" font-family=\"Arial\">Rx(0.333π)</text><rect x=\"70.0\" y=\"105.0\" width=\"84.86773437500001\" height=\"40\" stroke=\"black\" fill=\"white\" stroke-width=\"1\" /><text x=\"112.4338671875\" y=\"125.0\" dominant-baseline=\"middle\" text-anchor=\"middle\" font-size=\"18px\" font-family=\"Arial\">H</text><rect x=\"70.0\" y=\"155.0\" width=\"84.86773437500001\" height=\"40\" stroke=\"black\" fill=\"white\" stroke-width=\"1\" /><text x=\"112.4338671875\" y=\"175.0\" dominant-baseline=\"middle\" text-anchor=\"middle\" font-size=\"18px\" font-family=\"Arial\">H</text></svg>"
      ],
      "text/plain": [
       "<cirq.contrib.svg.svg.SVGCircuit at 0x7fdfe18b5310>"
      ]
     },
     "execution_count": 4,
     "metadata": {},
     "output_type": "execute_result"
    }
   ],
   "source": [
    "# Create a circuit with 5 qubits\n",
    "qubits = cirq.NamedQubit.range(5, prefix = 'q')\n",
    "circuit = cirq.Circuit()\n",
    "\n",
    "# 1. Apply a Hadamard gate to the first qubit\n",
    "circuit.append(cirq.H(qubits[0]))\n",
    "\n",
    "# 2. Rotate the second qubit by pi/3 around X\n",
    "circuit.append(cirq.rx(np.pi/3).on(qubits[1]))\n",
    "\n",
    "# 3. Apply Hadamard gates to the third and fourth qubits\n",
    "circuit.append(cirq.H.on_each(qubits[2:4]))\n",
    "\n",
    "#Plot the circuit\n",
    "SVGCircuit(circuit)"
   ]
  },
  {
   "cell_type": "markdown",
   "metadata": {},
   "source": [
    "## **Swap tests**\n"
   ]
  },
  {
   "cell_type": "markdown",
   "metadata": {},
   "source": [
    "Swap test is a procedure in quantum computation used to check how much two quantum states differ.\n",
    "Let $\\ket{a}$ and $\\ket{b}$ be two states and $\\ket{0}$ be an auxiliar qubit. The swap test applied to this two states consist in four steps.\n",
    "\n",
    "#### **Step 1**\n",
    "\n",
    "The initial state of our three qubit system is :\n",
    "$$\\ket{\\psi} = \\ket{0\\, a\\, b}$$\n",
    " The first step is to apply a Hadamard gate to the auxiliar qubit, after this, the state of the system is:\n",
    "\n",
    " $$\\ket{\\psi} = \\frac{1}{\\sqrt{2}}(\\ket{0 a b} + \\ket{1 a b})$$\n",
    "\n",
    " #### **Step 2**\n",
    "\n",
    " The second step is to apply a controlled SWAP gate to the three qubit system where the auxiliar qubit is the control. After this the state of the system is:\n",
    "\n",
    " $$\\ket{\\psi} = \\frac{1}{\\sqrt{2}}(\\ket{0 a b} + \\ket{1 b a})$$\n",
    "\n",
    " #### **Step 3**\n",
    "\n",
    " The third step is to apply a second Hadamard gate to the auxiliar qubit, then the state of the system is:\n",
    "\n",
    "\n",
    "$$\n",
    "\\begin{aligned}\n",
    "    \\ket{\\psi} &= \\frac{1}{2}(\\ket{0 a b} + \\ket{1 a b} + \\ket{0 b a} - \\ket{1 b a})\\\\\n",
    "    \\ket{\\psi} &= \\frac{1}{2}(\\ket{0 a b} + \\ket{0 b a}) + \\frac{1}{2}(\\ket{1 a b} - \\ket{1 b a}) \\\\\n",
    "    \\ket{\\psi} &= \\frac{1}{2}\\ket{0}(\\ket{a b} + \\ket{b a}) + \\frac{1}{2}\\ket{1}((\\ket{a b} + \\ket{b a}))\n",
    "\\end{aligned}\n",
    "$$\n",
    "\n",
    "#### **Step 4**\n",
    "\n",
    "Finally we perform a measurement on the auxiliar qubit. We know that if the state of the quantum system is $\\ket{\\psi}$ immediately before the measurement then the probability of observe 0 is given by\n",
    "\n",
    "$$P(0) = \\bra{\\psi}{M_{0}^{\\dagger} M_{0} \\ket{\\psi}} $$\n",
    "\n",
    "Where $M_{0} = \\ket{0}\\bra{0}$. In our case we have:\n",
    "\n",
    "\n",
    "$$\n",
    "\\begin{aligned}\n",
    "P(aux\\, qubit = 0) &= \\bra{\\psi}{M_{0}^{\\dagger} M_{0} \\ket{\\psi}} \\\\\n",
    "&=\\bra{\\psi}\\braket{0|0}\\ket{0} \\bra{0}\\ket{\\psi} \\\\\n",
    "&=\\braket{\\psi|0} \\braket{0|\\psi} \\\\\n",
    "&= \\frac{1}{4}(\\bra{a b} + \\bra{b a})(\\ket{a b} + \\ket{b a}) \\\\\n",
    "&= \\frac{1}{4}(1 + 1 + \\braket{ab|ba} + \\braket{ba|ab})\n",
    "&= \\frac{1}{4}(2 + 2 \\, |\\braket{a|b}| ^2)\n",
    "\\end{aligned}\n",
    "$$\n",
    "\n",
    "Thus\n",
    "$$\n",
    "\\begin{aligned}\n",
    "P(aux\\, qubit = 0) &= \\frac{1}{2}+\\frac{1}{2}\\, |\\braket{a|b}|^2\n",
    "\\end{aligned}\n",
    "$$\n",
    "\n",
    "We will measure 0 when $\\ket{a} = \\ket{b}$ "
   ]
  },
  {
   "cell_type": "code",
   "execution_count": 47,
   "metadata": {},
   "outputs": [],
   "source": [
    "# Create two auxiliar qubits\n",
    "aux_qubits = cirq.NamedQubit.range(2, prefix = 'aux_q')\n",
    "\n",
    "# Create the swap test circuits\n",
    "swap_circuit_q0_q1 = cirq.Circuit()\n",
    "swap_circuit_q2_q3 = cirq.Circuit()\n",
    "\n",
    "# Swap test for qubits q0 and q1\n",
    "swap_circuit_q0_q1.append(cirq.H(aux_qubits[0]))\n",
    "swap_circuit_q0_q1.append(cirq.CSWAP(aux_qubits[0], qubits[0], qubits[1]))\n",
    "swap_circuit_q0_q1.append(cirq.H(aux_qubits[0]))\n",
    "\n",
    "# Swap test for qubits q2 and q3 \n",
    "swap_circuit_q2_q3.append(cirq.H(aux_qubits[1]))\n",
    "swap_circuit_q2_q3.append(cirq.CSWAP(aux_qubits[1], qubits[2], qubits[3]))\n",
    "swap_circuit_q2_q3.append(cirq.H(aux_qubits[1]))"
   ]
  },
  {
   "cell_type": "code",
   "execution_count": 69,
   "metadata": {},
   "outputs": [
    {
     "name": "stderr",
     "output_type": "stream",
     "text": [
      "findfont: Font family 'Arial' not found.\n",
      "findfont: Font family 'Arial' not found.\n",
      "findfont: Font family 'Arial' not found.\n",
      "findfont: Font family 'Arial' not found.\n",
      "findfont: Font family 'Arial' not found.\n",
      "findfont: Font family 'Arial' not found.\n",
      "findfont: Font family 'Arial' not found.\n",
      "findfont: Font family 'Arial' not found.\n"
     ]
    },
    {
     "data": {
      "image/svg+xml": [
       "<svg xmlns=\"http://www.w3.org/2000/svg\" width=\"302.7734375\" height=\"150.0\"><line x1=\"41.38671875\" x2=\"272.7734375\" y1=\"25.0\" y2=\"25.0\" stroke=\"#1967d2\" stroke-width=\"1\" /><line x1=\"41.38671875\" x2=\"272.7734375\" y1=\"75.0\" y2=\"75.0\" stroke=\"#1967d2\" stroke-width=\"1\" /><line x1=\"41.38671875\" x2=\"272.7734375\" y1=\"125.0\" y2=\"125.0\" stroke=\"#1967d2\" stroke-width=\"1\" /><line x1=\"172.7734375\" x2=\"172.7734375\" y1=\"25.0\" y2=\"125.0\" stroke=\"black\" stroke-width=\"3\" /><rect x=\"10.0\" y=\"5.0\" width=\"62.7734375\" height=\"40\" stroke=\"black\" fill=\"white\" stroke-width=\"0\" /><text x=\"41.38671875\" y=\"25.0\" dominant-baseline=\"middle\" text-anchor=\"middle\" font-size=\"14px\" font-family=\"Arial\">aux_q0: </text><rect x=\"10.0\" y=\"55.0\" width=\"62.7734375\" height=\"40\" stroke=\"black\" fill=\"white\" stroke-width=\"0\" /><text x=\"41.38671875\" y=\"75.0\" dominant-baseline=\"middle\" text-anchor=\"middle\" font-size=\"14px\" font-family=\"Arial\">q0: </text><rect x=\"10.0\" y=\"105.0\" width=\"62.7734375\" height=\"40\" stroke=\"black\" fill=\"white\" stroke-width=\"0\" /><text x=\"41.38671875\" y=\"125.0\" dominant-baseline=\"middle\" text-anchor=\"middle\" font-size=\"14px\" font-family=\"Arial\">q1: </text><rect x=\"92.7734375\" y=\"5.0\" width=\"40\" height=\"40\" stroke=\"black\" fill=\"white\" stroke-width=\"1\" /><text x=\"112.7734375\" y=\"25.0\" dominant-baseline=\"middle\" text-anchor=\"middle\" font-size=\"18px\" font-family=\"Arial\">H</text><circle cx=\"172.7734375\" cy=\"25.0\" r=\"10.0\" /><text x=\"172.7734375\" y=\"78.0\" dominant-baseline=\"middle\" text-anchor=\"middle\" font-size=\"40px\" font-family=\"Arial\">×</text><text x=\"172.7734375\" y=\"128.0\" dominant-baseline=\"middle\" text-anchor=\"middle\" font-size=\"40px\" font-family=\"Arial\">×</text><rect x=\"212.7734375\" y=\"5.0\" width=\"40\" height=\"40\" stroke=\"black\" fill=\"white\" stroke-width=\"1\" /><text x=\"232.7734375\" y=\"25.0\" dominant-baseline=\"middle\" text-anchor=\"middle\" font-size=\"18px\" font-family=\"Arial\">H</text></svg>"
      ],
      "text/plain": [
       "<cirq.contrib.svg.svg.SVGCircuit at 0x7fdfdde91f40>"
      ]
     },
     "execution_count": 69,
     "metadata": {},
     "output_type": "execute_result"
    }
   ],
   "source": [
    "# Plot the swap test circuit for qubits q0 and q1 \n",
    "SVGCircuit(swap_circuit_q0_q1)"
   ]
  },
  {
   "cell_type": "code",
   "execution_count": 49,
   "metadata": {},
   "outputs": [
    {
     "name": "stderr",
     "output_type": "stream",
     "text": [
      "findfont: Font family 'Arial' not found.\n",
      "findfont: Font family 'Arial' not found.\n",
      "findfont: Font family 'Arial' not found.\n",
      "findfont: Font family 'Arial' not found.\n",
      "findfont: Font family 'Arial' not found.\n",
      "findfont: Font family 'Arial' not found.\n",
      "findfont: Font family 'Arial' not found.\n",
      "findfont: Font family 'Arial' not found.\n"
     ]
    },
    {
     "data": {
      "image/svg+xml": [
       "<svg xmlns=\"http://www.w3.org/2000/svg\" width=\"302.7734375\" height=\"150.0\"><line x1=\"41.38671875\" x2=\"272.7734375\" y1=\"25.0\" y2=\"25.0\" stroke=\"#1967d2\" stroke-width=\"1\" /><line x1=\"41.38671875\" x2=\"272.7734375\" y1=\"75.0\" y2=\"75.0\" stroke=\"#1967d2\" stroke-width=\"1\" /><line x1=\"41.38671875\" x2=\"272.7734375\" y1=\"125.0\" y2=\"125.0\" stroke=\"#1967d2\" stroke-width=\"1\" /><line x1=\"172.7734375\" x2=\"172.7734375\" y1=\"25.0\" y2=\"125.0\" stroke=\"black\" stroke-width=\"3\" /><rect x=\"10.0\" y=\"5.0\" width=\"62.7734375\" height=\"40\" stroke=\"black\" fill=\"white\" stroke-width=\"0\" /><text x=\"41.38671875\" y=\"25.0\" dominant-baseline=\"middle\" text-anchor=\"middle\" font-size=\"14px\" font-family=\"Arial\">aux_q1: </text><rect x=\"10.0\" y=\"55.0\" width=\"62.7734375\" height=\"40\" stroke=\"black\" fill=\"white\" stroke-width=\"0\" /><text x=\"41.38671875\" y=\"75.0\" dominant-baseline=\"middle\" text-anchor=\"middle\" font-size=\"14px\" font-family=\"Arial\">q2: </text><rect x=\"10.0\" y=\"105.0\" width=\"62.7734375\" height=\"40\" stroke=\"black\" fill=\"white\" stroke-width=\"0\" /><text x=\"41.38671875\" y=\"125.0\" dominant-baseline=\"middle\" text-anchor=\"middle\" font-size=\"14px\" font-family=\"Arial\">q3: </text><rect x=\"92.7734375\" y=\"5.0\" width=\"40\" height=\"40\" stroke=\"black\" fill=\"white\" stroke-width=\"1\" /><text x=\"112.7734375\" y=\"25.0\" dominant-baseline=\"middle\" text-anchor=\"middle\" font-size=\"18px\" font-family=\"Arial\">H</text><circle cx=\"172.7734375\" cy=\"25.0\" r=\"10.0\" /><text x=\"172.7734375\" y=\"78.0\" dominant-baseline=\"middle\" text-anchor=\"middle\" font-size=\"40px\" font-family=\"Arial\">×</text><text x=\"172.7734375\" y=\"128.0\" dominant-baseline=\"middle\" text-anchor=\"middle\" font-size=\"40px\" font-family=\"Arial\">×</text><rect x=\"212.7734375\" y=\"5.0\" width=\"40\" height=\"40\" stroke=\"black\" fill=\"white\" stroke-width=\"1\" /><text x=\"232.7734375\" y=\"25.0\" dominant-baseline=\"middle\" text-anchor=\"middle\" font-size=\"18px\" font-family=\"Arial\">H</text></svg>"
      ],
      "text/plain": [
       "<cirq.contrib.svg.svg.SVGCircuit at 0x7fdfddeb1e20>"
      ]
     },
     "execution_count": 49,
     "metadata": {},
     "output_type": "execute_result"
    }
   ],
   "source": [
    "# Plot the swap test circuit for qubits q2 and q3\n",
    "SVGCircuit(swap_circuit_q2_q3)"
   ]
  },
  {
   "cell_type": "code",
   "execution_count": 50,
   "metadata": {},
   "outputs": [
    {
     "name": "stderr",
     "output_type": "stream",
     "text": [
      "findfont: Font family 'Arial' not found.\n",
      "findfont: Font family 'Arial' not found.\n",
      "findfont: Font family 'Arial' not found.\n",
      "findfont: Font family 'Arial' not found.\n",
      "findfont: Font family 'Arial' not found.\n",
      "findfont: Font family 'Arial' not found.\n",
      "findfont: Font family 'Arial' not found.\n",
      "findfont: Font family 'Arial' not found.\n",
      "findfont: Font family 'Arial' not found.\n",
      "findfont: Font family 'Arial' not found.\n",
      "findfont: Font family 'Arial' not found.\n",
      "findfont: Font family 'Arial' not found.\n",
      "findfont: Font family 'Arial' not found.\n",
      "findfont: Font family 'Arial' not found.\n",
      "findfont: Font family 'Arial' not found.\n",
      "findfont: Font family 'Arial' not found.\n",
      "findfont: Font family 'Arial' not found.\n",
      "findfont: Font family 'Arial' not found.\n",
      "findfont: Font family 'Arial' not found.\n",
      "findfont: Font family 'Arial' not found.\n",
      "findfont: Font family 'Arial' not found.\n",
      "findfont: Font family 'Arial' not found.\n"
     ]
    },
    {
     "data": {
      "image/svg+xml": [
       "<svg xmlns=\"http://www.w3.org/2000/svg\" width=\"647.641171875\" height=\"300.0\"><line x1=\"41.38671875\" x2=\"617.641171875\" y1=\"25.0\" y2=\"25.0\" stroke=\"#1967d2\" stroke-width=\"1\" /><line x1=\"41.38671875\" x2=\"617.641171875\" y1=\"75.0\" y2=\"75.0\" stroke=\"#1967d2\" stroke-width=\"1\" /><line x1=\"41.38671875\" x2=\"617.641171875\" y1=\"125.0\" y2=\"125.0\" stroke=\"#1967d2\" stroke-width=\"1\" /><line x1=\"41.38671875\" x2=\"617.641171875\" y1=\"175.0\" y2=\"175.0\" stroke=\"#1967d2\" stroke-width=\"1\" /><line x1=\"41.38671875\" x2=\"617.641171875\" y1=\"225.0\" y2=\"225.0\" stroke=\"#1967d2\" stroke-width=\"1\" /><line x1=\"41.38671875\" x2=\"617.641171875\" y1=\"275.0\" y2=\"275.0\" stroke=\"#1967d2\" stroke-width=\"1\" /><line x1=\"277.641171875\" x2=\"277.641171875\" y1=\"25.0\" y2=\"175.0\" stroke=\"black\" stroke-width=\"3\" /><line x1=\"457.641171875\" x2=\"457.641171875\" y1=\"75.0\" y2=\"275.0\" stroke=\"black\" stroke-width=\"3\" /><line x1=\"577.641171875\" x2=\"577.641171875\" y1=\"25.0\" y2=\"75.0\" stroke=\"black\" stroke-width=\"3\" /><rect x=\"10.0\" y=\"5.0\" width=\"62.7734375\" height=\"40\" stroke=\"black\" fill=\"white\" stroke-width=\"0\" /><text x=\"41.38671875\" y=\"25.0\" dominant-baseline=\"middle\" text-anchor=\"middle\" font-size=\"14px\" font-family=\"Arial\">aux_q0: </text><rect x=\"10.0\" y=\"55.0\" width=\"62.7734375\" height=\"40\" stroke=\"black\" fill=\"white\" stroke-width=\"0\" /><text x=\"41.38671875\" y=\"75.0\" dominant-baseline=\"middle\" text-anchor=\"middle\" font-size=\"14px\" font-family=\"Arial\">aux_q1: </text><rect x=\"10.0\" y=\"105.0\" width=\"62.7734375\" height=\"40\" stroke=\"black\" fill=\"white\" stroke-width=\"0\" /><text x=\"41.38671875\" y=\"125.0\" dominant-baseline=\"middle\" text-anchor=\"middle\" font-size=\"14px\" font-family=\"Arial\">q0: </text><rect x=\"10.0\" y=\"155.0\" width=\"62.7734375\" height=\"40\" stroke=\"black\" fill=\"white\" stroke-width=\"0\" /><text x=\"41.38671875\" y=\"175.0\" dominant-baseline=\"middle\" text-anchor=\"middle\" font-size=\"14px\" font-family=\"Arial\">q1: </text><rect x=\"10.0\" y=\"205.0\" width=\"62.7734375\" height=\"40\" stroke=\"black\" fill=\"white\" stroke-width=\"0\" /><text x=\"41.38671875\" y=\"225.0\" dominant-baseline=\"middle\" text-anchor=\"middle\" font-size=\"14px\" font-family=\"Arial\">q2: </text><rect x=\"10.0\" y=\"255.0\" width=\"62.7734375\" height=\"40\" stroke=\"black\" fill=\"white\" stroke-width=\"0\" /><text x=\"41.38671875\" y=\"275.0\" dominant-baseline=\"middle\" text-anchor=\"middle\" font-size=\"14px\" font-family=\"Arial\">q3: </text><rect x=\"92.7734375\" y=\"105.0\" width=\"84.86773437500001\" height=\"40\" stroke=\"black\" fill=\"white\" stroke-width=\"1\" /><text x=\"135.2073046875\" y=\"125.0\" dominant-baseline=\"middle\" text-anchor=\"middle\" font-size=\"18px\" font-family=\"Arial\">H</text><rect x=\"92.7734375\" y=\"155.0\" width=\"84.86773437500001\" height=\"40\" stroke=\"black\" fill=\"white\" stroke-width=\"1\" /><text x=\"135.2073046875\" y=\"175.0\" dominant-baseline=\"middle\" text-anchor=\"middle\" font-size=\"14px\" font-family=\"Arial\">Rx(0.333π)</text><rect x=\"92.7734375\" y=\"205.0\" width=\"84.86773437500001\" height=\"40\" stroke=\"black\" fill=\"white\" stroke-width=\"1\" /><text x=\"135.2073046875\" y=\"225.0\" dominant-baseline=\"middle\" text-anchor=\"middle\" font-size=\"18px\" font-family=\"Arial\">H</text><rect x=\"92.7734375\" y=\"255.0\" width=\"84.86773437500001\" height=\"40\" stroke=\"black\" fill=\"white\" stroke-width=\"1\" /><text x=\"135.2073046875\" y=\"275.0\" dominant-baseline=\"middle\" text-anchor=\"middle\" font-size=\"18px\" font-family=\"Arial\">H</text><rect x=\"197.641171875\" y=\"5.0\" width=\"40\" height=\"40\" stroke=\"black\" fill=\"white\" stroke-width=\"1\" /><text x=\"217.641171875\" y=\"25.0\" dominant-baseline=\"middle\" text-anchor=\"middle\" font-size=\"18px\" font-family=\"Arial\">H</text><circle cx=\"277.641171875\" cy=\"25.0\" r=\"10.0\" /><text x=\"277.641171875\" y=\"128.0\" dominant-baseline=\"middle\" text-anchor=\"middle\" font-size=\"40px\" font-family=\"Arial\">×</text><text x=\"277.641171875\" y=\"178.0\" dominant-baseline=\"middle\" text-anchor=\"middle\" font-size=\"40px\" font-family=\"Arial\">×</text><rect x=\"317.641171875\" y=\"5.0\" width=\"40\" height=\"40\" stroke=\"black\" fill=\"white\" stroke-width=\"1\" /><text x=\"337.641171875\" y=\"25.0\" dominant-baseline=\"middle\" text-anchor=\"middle\" font-size=\"18px\" font-family=\"Arial\">H</text><rect x=\"377.641171875\" y=\"55.0\" width=\"40\" height=\"40\" stroke=\"black\" fill=\"white\" stroke-width=\"1\" /><text x=\"397.641171875\" y=\"75.0\" dominant-baseline=\"middle\" text-anchor=\"middle\" font-size=\"18px\" font-family=\"Arial\">H</text><circle cx=\"457.641171875\" cy=\"75.0\" r=\"10.0\" /><text x=\"457.641171875\" y=\"228.0\" dominant-baseline=\"middle\" text-anchor=\"middle\" font-size=\"40px\" font-family=\"Arial\">×</text><text x=\"457.641171875\" y=\"278.0\" dominant-baseline=\"middle\" text-anchor=\"middle\" font-size=\"40px\" font-family=\"Arial\">×</text><rect x=\"497.64117187500005\" y=\"55.0\" width=\"40\" height=\"40\" stroke=\"black\" fill=\"white\" stroke-width=\"1\" /><text x=\"517.641171875\" y=\"75.0\" dominant-baseline=\"middle\" text-anchor=\"middle\" font-size=\"18px\" font-family=\"Arial\">H</text><rect x=\"557.641171875\" y=\"5.0\" width=\"40\" height=\"40\" stroke=\"black\" fill=\"white\" stroke-width=\"1\" /><text x=\"577.641171875\" y=\"25.0\" dominant-baseline=\"middle\" text-anchor=\"middle\" font-size=\"18px\" font-family=\"Arial\">M</text><rect x=\"557.641171875\" y=\"55.0\" width=\"40\" height=\"40\" stroke=\"black\" fill=\"white\" stroke-width=\"1\" /><text x=\"577.641171875\" y=\"75.0\" dominant-baseline=\"middle\" text-anchor=\"middle\" font-size=\"18px\" font-family=\"Arial\">M</text></svg>"
      ],
      "text/plain": [
       "<cirq.contrib.svg.svg.SVGCircuit at 0x7fdfde92af10>"
      ]
     },
     "execution_count": 50,
     "metadata": {},
     "output_type": "execute_result"
    }
   ],
   "source": [
    "# Combine the circuits\n",
    "final_circuit = circuit + swap_circuit_q0_q1 + swap_circuit_q2_q3\n",
    "\n",
    "# Measure the auxiliar qubits\n",
    "final_circuit.append(cirq.measure(aux_qubits[0], aux_qubits[1]))\n",
    "\n",
    "# Plot the circuit\n",
    "SVGCircuit(final_circuit)"
   ]
  },
  {
   "cell_type": "code",
   "execution_count": 65,
   "metadata": {},
   "outputs": [
    {
     "data": {
      "image/png": "[encoded data removed]",
      "text/plain": [
       "<Figure size 1200x600 with 2 Axes>"
      ]
     },
     "metadata": {},
     "output_type": "display_data"
    }
   ],
   "source": [
    "# Simulate the circuit\n",
    "sim = cirq.Simulator()\n",
    "result = sim.run(final_circuit, repetitions = 5000)\n",
    "\n",
    "# Extract the measurements \n",
    "aux_q0_measurements = result.measurements['aux_q0,aux_q1'].T[0]\n",
    "aux_q1_measurements = result.measurements['aux_q0,aux_q1'].T[1]\n",
    "\n",
    "# Plot the results\n",
    "plt.figure(figsize=(12, 6))\n",
    "\n",
    "# Histogram for aux q0\n",
    "plt.subplot(1, 2, 1)\n",
    "plt.hist(aux_q0_measurements, bins=2, range=(0, 2), rwidth=0.8, color='#CA95FB', align='left', density=True)\n",
    "plt.xlabel('States', fontsize = 18)\n",
    "plt.ylabel('relative frequency',fontsize = 18)\n",
    "plt.title(r'Swap test $\\left|q0\\right\\rangle$ and $\\left|q1\\right\\rangle$', fontsize = 23)\n",
    "plt.xticks([0, 1], fontsize = 15)\n",
    "plt.ylim((0, 1.05))\n",
    "\n",
    "# Histogram for aux q1\n",
    "plt.subplot(1, 2, 2)\n",
    "plt.hist(aux_q1_measurements, bins=2, range=(0, 2), rwidth=0.8, color='#CA95FB', align='left', density=True)\n",
    "plt.xlabel('States', fontsize = 18)\n",
    "plt.ylabel('relative frequency', fontsize = 18)\n",
    "plt.title(r'Swap test $\\left|q2\\right\\rangle$ and $\\left|q3\\right\\rangle$', fontsize = 23)\n",
    "plt.xticks([0, 1], fontsize = 15)\n",
    "\n",
    "plt.tight_layout()\n",
    "plt.show()"
   ]
  },
  {
   "cell_type": "markdown",
   "metadata": {},
   "source": [
    "This results match with the predicted by equation $P(aux\\, qubit = 0) = \\frac{1}{2}+\\frac{1}{2}\\, |\\braket{a|b}|^2$, as the states $\\ket{q2}$ and $\\ket{q3}$ are the same (both qubits are in $\\ket{+}$) it is expected to measure a $\\ket{0}$ with probability of $100\\%$ exactly what our simulation outcomes shows. For the qubits 0 and 1 the situation is different, whereas qubit 0 is in the state $\\ket{+}$, the qubit 1 has undergo a x rotation of $\\pi / 3$, thus its state will be:\n",
    "\n",
    "$$\n",
    "\\ket{q1} = \n",
    "\\left[\n",
    "  \\begin{array}{cc}\n",
    "    \\cos{\\frac{\\pi}{6}} & -i \\sin{\\frac{\\pi}{6}} \\\\\n",
    "    -i \\sin{\\frac{\\pi}{6}} & \\cos{\\frac{\\pi}{6}} \\\\\n",
    "\n",
    "  \\end{array}\n",
    "\\right]\n",
    "\\begin{bmatrix}\n",
    "           1 \\\\\n",
    "           0 \\\\\n",
    "         \\end{bmatrix}\n",
    "$$\n",
    "\n",
    "$$\n",
    "\\ket{q1} = \\cos{\\frac{\\pi}{6}} \\ket{0} -i \\sin{\\frac{\\pi}{6}} \\ket{1}\n",
    "$$\n",
    "\n",
    "By using the equation **(1)**, we can calculate the probability of measure the auxiliar qubit in the state $\\ket{0}$\n",
    "\n",
    "$$\n",
    "\\begin{aligned}\n",
    "P(aux\\, qubit = 0) &= \\frac{1}{2}+\\frac{1}{2}\\, |\\braket{+|q1}|^2 \\\\\n",
    "&= \\frac{1}{2}+\\frac{1}{2}\\, |\\braket{+|q1}|^2 \\\\\n",
    "&= \\frac{1}{2}+\\frac{1}{2}\\, \\left|\\cos{\\frac{\\pi}{6}}\\braket{+|0} - \\sin{\\frac{\\pi}{6}}\\braket{+|1} \\right|^2 \\\\ \n",
    "&= \\frac{1}{2}+\\frac{1}{2}\\, \\left|\\frac{\\cos{\\pi/6}}{\\sqrt{2}}\\braket{0|0} + \\frac{\\cos{\\pi/6}}{\\sqrt{2}}\\braket{1|0} - \\frac{\\sin{\\pi/6}}{\\sqrt{2}}\\braket{0|1} - \\frac{\\sin{\\pi/6}}{\\sqrt{2}}\\braket{1|1} \\right|^2 \\\\ \n",
    "&= \\frac{1}{2}+\\frac{1}{2}\\, \\left| \\frac{\\cos{\\pi/6} -i \\sin{\\pi/6}}{\\sqrt{2}} \\right|^2\n",
    "\\end{aligned}\n",
    "$$\n",
    "\n",
    "Thus\n",
    "\n",
    "$$\n",
    "P(aux\\, qubit = 0) = \\frac{1}{2}+\\frac{1}{2}\\, \\left(\\frac{1}{2}\\right) = 0.75\n",
    "$$\n",
    "\n",
    "Which it is more or less the relative frequency of measuring the auxiliar qubit in $\\ket{0}$ state given by our simulation."
   ]
  }
 ],
 "metadata": {
  "kernelspec": {
   "display_name": "tensorQuantum",
   "language": "python",
   "name": "python3"
  },
  "language_info": {
   "codemirror_mode": {
    "name": "ipython",
    "version": 3
   },
   "file_extension": ".py",
   "mimetype": "text/x-python",
   "name": "python",
   "nbconvert_exporter": "python",
   "pygments_lexer": "ipython3",
   "version": "3.9.18"
  }
 },
 "nbformat": 4,
 "nbformat_minor": 2
}
